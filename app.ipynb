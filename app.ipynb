{
  "cells": [
    {
      "cell_type": "code",
      "execution_count": null,
      "metadata": {
        "id": "k3VNa_ECpuHl"
      },
      "outputs": [],
      "source": [
        "!pip install vanna\n",
        "import vanna\n",
        "from vanna.remote import VannaDefault\n",
        "vn = VannaDefault(model='chinook', api_key=vanna.get_api_key('39189996@qq.com'))\n",
        "vn.connect_to_sqlite('https://vanna.ai/Chinook.sqlite')\n",
        "vn.ask(\"What are the top 10 albums by sales?\")"
      ]
    },
    {
      "cell_type": "code",
      "execution_count": null,
      "metadata": {
        "id": "F6GOD5Q0puHn"
      },
      "outputs": [],
      "source": [
        "from vanna.flask import VannaFlaskApp\n",
        "VannaFlaskApp(vn).run()"
      ]
    },
    {
      "cell_type": "markdown",
      "metadata": {
        "id": "gbvPv-AvpuHn"
      },
      "source": [
        "## Here's what you'll get\n",
        "![vanna-flask](https://vanna.ai/blog/img/vanna-flask.gif)"
      ]
    },
    {
      "cell_type": "markdown",
      "metadata": {
        "id": "cFTKm0HQpuHo"
      },
      "source": []
    }
  ],
  "metadata": {
    "language_info": {
      "name": "python"
    },
    "colab": {
      "provenance": []
    }
  },
  "nbformat": 4,
  "nbformat_minor": 0
}